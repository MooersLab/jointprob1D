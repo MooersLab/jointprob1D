{
 "cells": [
  {
   "cell_type": "markdown",
   "id": "c70d3b81",
   "metadata": {},
   "source": [
    "# Entropy"
   ]
  },
  {
   "cell_type": "markdown",
   "id": "b450f8be",
   "metadata": {},
   "source": [
    "## Definition of statistical entropy\n",
    "\n",
    "The entropy $S$ of an isolated system at thermodynamic equilibrium is the natural logarithm of W, the number of distinct microscopic states available to the system given the macroscopic constraints such as a fixed total energy E."
   ]
  },
  {
   "cell_type": "markdown",
   "id": "206edfd3",
   "metadata": {},
   "source": [
    "$$S=k \\log W$$\n",
    "\n",
    "- S: entropy\n",
    "- W: number of possbile arrangements\n",
    "- k: Boltzmann constant used to allow expression in terms of energy. Set to 1 below."
   ]
  },
  {
   "cell_type": "markdown",
   "id": "d1d1506a",
   "metadata": {},
   "source": [
    "The Boltzmann equation relates the microscopic details of the system via W to its macroscopic state via the entropy S. Named after Ludwig Boltzmann who related probability to entropy in 1877, but $k$ was defined by Max Planck around 1900."
   ]
  },
  {
   "cell_type": "markdown",
   "id": "3f26b601",
   "metadata": {},
   "source": [
    "$$\n",
    "\\Delta S=\\int \\frac{\\mathrm{d} Q}{T}\n",
    "$$"
   ]
  },
  {
   "cell_type": "markdown",
   "id": "e0286321",
   "metadata": {},
   "source": [
    "- The Boltzmann constant ($k_{B}$ or $k$) relates the statistical entropy to the classical macroscopic entropy. \n",
    "- It relates average relative kinetic energy of particles with the thermodynamic temperature of the system: $$1.380649×10^{−23} J⋅K^{−1}$$ \n",
    "- It has the same units as the classical entropy."
   ]
  },
  {
   "cell_type": "markdown",
   "id": "ddda42b5",
   "metadata": {},
   "source": [
    "### Measurement of the classical entropy of a system"
   ]
  },
  {
   "cell_type": "code",
   "execution_count": 13,
   "id": "c2103a31",
   "metadata": {},
   "outputs": [
    {
     "data": {
      "text/html": [
       "<img src=\"./SectionD10/images/MacroscopicEntropy.png\" width=\"900\" height=\"900\"/>"
      ],
      "text/plain": [
       "<IPython.core.display.Image object>"
      ]
     },
     "execution_count": 13,
     "metadata": {},
     "output_type": "execute_result"
    }
   ],
   "source": [
    "from IPython.display import Image\n",
    "Image(url=\"./SectionD10/images/MacroscopicEntropy.png\", width=900, height=900)"
   ]
  },
  {
   "cell_type": "code",
   "execution_count": 8,
   "id": "e6ab74d8",
   "metadata": {},
   "outputs": [
    {
     "data": {
      "text/html": [
       "<img src=\"./SectionD10/images/StatisticalEntropy.png\" width=\"900\" height=\"900\"/>"
      ],
      "text/plain": [
       "<IPython.core.display.Image object>"
      ]
     },
     "execution_count": 8,
     "metadata": {},
     "output_type": "execute_result"
    }
   ],
   "source": [
    "from IPython.display import Image\n",
    "Image(url=\"./SectionD10/images/StatisticalEntropy.png\", width=900, height=900)"
   ]
  },
  {
   "cell_type": "code",
   "execution_count": 6,
   "id": "3227159c",
   "metadata": {},
   "outputs": [
    {
     "data": {
      "text/html": [
       "<img src=\"./SectionD10/images/entropy.png\" width=\"900\" height=\"900\"/>"
      ],
      "text/plain": [
       "<IPython.core.display.Image object>"
      ]
     },
     "execution_count": 6,
     "metadata": {},
     "output_type": "execute_result"
    }
   ],
   "source": [
    "from IPython.display import Image\n",
    "Image(url=\"./SectionD10/images/entropy.png\", width=900, height=900)"
   ]
  },
  {
   "cell_type": "markdown",
   "id": "ccb255b4",
   "metadata": {},
   "source": [
    "### Entropy quantifies the possible arrangement of objects\n",
    "\n",
    "- molecules\n",
    "- characters in text\n",
    "- pixels\n",
    "- bubbles in sourdough bread\n",
    "- books in a bookcase"
   ]
  },
  {
   "cell_type": "markdown",
   "id": "6f9bbb63",
   "metadata": {},
   "source": [
    "## Rescaled, dimensionless Entropy == Information Entropy\n",
    "\n",
    "Set $k=1$:\n",
    "$$\n",
    "S^{\\prime}=\\ln W, \\quad \\Delta S^{\\prime}=\\int \\frac{\\mathrm{d} Q}{k T}\n",
    "$$"
   ]
  },
  {
   "cell_type": "markdown",
   "id": "8625e3d1",
   "metadata": {},
   "source": [
    "$$S' = H(p)=-\\mathbb{E}[\\log p]=-\\sum_i^n p_i \\log p_i$$"
   ]
  },
  {
   "cell_type": "markdown",
   "id": "9751a67c",
   "metadata": {},
   "source": [
    "For a proability distribution p with n possible distinct outcomes, each event $i$ has a probability of $p_{i}$."
   ]
  },
  {
   "cell_type": "markdown",
   "id": "0d5ada05",
   "metadata": {},
   "source": [
    "### Multiplicity, W\n",
    "\n",
    "\n",
    "$$\n",
    "W=\\frac{N !}{n_{1} ! n_{2} ! \\cdots n_{t} !}\n",
    "$$\n",
    "\n",
    "\n",
    "- $N:$ total number of events\n",
    "- $n_{i}$: number of times distinct event $i$ occurs\n",
    "- $t$: number of distinct events\n",
    "\n",
    "\n",
    "\n",
    "With large $N$, we can apply Stirling's approximation:\n",
    "$$x ! \\approx\\left(\\frac{x}{e}\\right)^x$$\n",
    "\n",
    "\n",
    "Because $p_i=\\frac{n_i}{N}$, we can rewrite the above as\n",
    "\n",
    "$$\n",
    "W=\\frac{1}{p_1^{n_1} p_2^{n_2} \\cdots p_t^{n_t}}\n",
    "$$\n",
    "\n",
    "Take the logarithm (????), \n",
    "\n",
    "$$\n",
    "\\log W=-\\sum_i^n p_i \\log p_i\n",
    "$$"
   ]
  },
  {
   "cell_type": "code",
   "execution_count": 32,
   "id": "75edd9bc",
   "metadata": {},
   "outputs": [
    {
     "name": "stdout",
     "output_type": "stream",
     "text": [
      "3.10.8 | packaged by conda-forge | (main, Nov 22 2022, 08:27:35) [Clang 14.0.6 ]\n"
     ]
    }
   ],
   "source": [
    "import sys\n",
    "print(sys.version)"
   ]
  },
  {
   "cell_type": "code",
   "execution_count": 15,
   "id": "38d6cda8",
   "metadata": {},
   "outputs": [
    {
     "name": "stderr",
     "output_type": "stream",
     "text": [
      "/Users/blaine/opt/anaconda3/envs/stat-rethink2-pymc_v4/lib/python3.10/site-packages/scipy/__init__.py:146: UserWarning: A NumPy version >=1.16.5 and <1.23.0 is required for this version of SciPy (detected version 1.23.5\n",
      "  warnings.warn(f\"A NumPy version >={np_minversion} and <{np_maxversion}\"\n",
      "2022-12-24 06:04:54.801900: I tensorflow/core/platform/cpu_feature_guard.cc:193] This TensorFlow binary is optimized with oneAPI Deep Neural Network Library (oneDNN) to use the following CPU instructions in performance-critical operations:  AVX2 FMA\n",
      "To enable them in other operations, rebuild TensorFlow with the appropriate compiler flags.\n"
     ]
    }
   ],
   "source": [
    "# Basic\n",
    "import numpy as np\n",
    "from scipy import stats\n",
    "import pandas as pd\n",
    "from patsy import bs, dmatrix\n",
    "import matplotlib.pyplot as plt\n",
    "\n",
    "# Exploratory Analysis of Bayesian Models\n",
    "import arviz as az\n",
    "\n",
    "# Probabilistic programming languages\n",
    "import bambi as bmb\n",
    "import pymc as pm\n",
    "import tensorflow_probability as tfp\n",
    "\n",
    "tfd =tfp.distributions\n",
    "\n",
    "# Computational Backend\n",
    "import theano\n",
    "import theano.tensor as tt\n",
    "import tensorflow as tf"
   ]
  },
  {
   "cell_type": "code",
   "execution_count": 16,
   "id": "1d0d6181",
   "metadata": {},
   "outputs": [
    {
     "data": {
      "image/png": "[encoded data removed]",
      "text/plain": [
       "<Figure size 1200x500 with 6 Axes>"
      ]
     },
     "metadata": {},
     "output_type": "display_data"
    }
   ],
   "source": [
    "x = range(0, 26)\n",
    "q_pmf =stats.binom(10,0.75).pmf(x)\n",
    "qu_pmf =stats.randint(0,np.max(np.nonzero(q_pmf))+1).pmf(x)\n",
    "r_pmf =(q_pmf+np.roll(q_pmf,12))/2\n",
    "ru_pmf =stats.randint(0,np.max(np.nonzero(r_pmf))+1).pmf(x)\n",
    "s_pmf =(q_pmf+np.roll(q_pmf,15))/2\n",
    "su_pmf =(qu_pmf+np.roll(qu_pmf,15))/2\n",
    "\n",
    "_, ax=plt.subplots(3,2,figsize=(12,5),sharex=True,sharey=True,\n",
    "      constrained_layout=True)\n",
    "ax = np.ravel(ax)\n",
    "\n",
    "zipped = zip([q_pmf, qu_pmf,r_pmf,ru_pmf,s_pmf,su_pmf],\n",
    "         [\"q\", \"qu\", \"r\", \"ru\", \"s\", \"su\"])\n",
    "\n",
    "for idx, (dist,label) in enumerate(zipped):\n",
    "    ax[idx].vlines(x, 0,dist,label=f\"H ={stats.entropy(dist):.2f}\")\n",
    "    ax[idx].set_title(label)\n",
    "    ax[idx].legend(loc=1, handlelength=0)"
   ]
  },
  {
   "cell_type": "markdown",
   "id": "a7732bc8",
   "metadata": {},
   "source": [
    "26 possible events.\n",
    "\n",
    "- q: $q \\sim \\operatorname{binom}(n=10, p=0.75)$ (has 11 events and  the lowest entropy)\n",
    "- qu: uniform distribution with 11 events (Need to increase n 3 times for $q$ to get a higher entropy than qu).\n",
    "    \n",
    "- r: generated by duplicating $q$ and shifting to the right and then normalizing as the probabilities sum to 1.\n",
    "- ru: uniform distribution with 23 events.\n",
    "\n",
    "- s: like $r$ but with a larger valley\n",
    "- su: uniform distribution with 22 events. H of su is less than H of ru."
   ]
  },
  {
   "cell_type": "code",
   "execution_count": 54,
   "id": "def241fc",
   "metadata": {},
   "outputs": [
    {
     "data": {
      "text/plain": [
       "array([8.67361738e-19, 7.80625564e-17, 3.39572120e-15, 9.50801937e-14,\n",
       "       1.92537392e-12, 3.00358332e-11, 3.75447915e-10, 3.86174998e-09,\n",
       "       3.33075936e-08, 2.44255686e-07, 1.53881082e-06, 8.39351359e-06,\n",
       "       3.98691895e-05, 1.65610480e-04, 6.03295319e-04, 1.93054502e-03,\n",
       "       5.42965787e-03, 1.34144488e-02, 2.90646392e-02, 5.50698426e-02,\n",
       "       9.08652404e-02, 1.29807486e-01, 1.59309188e-01, 1.66235674e-01,\n",
       "       1.45456215e-01, 1.04728475e-01])"
      ]
     },
     "execution_count": 54,
     "metadata": {},
     "output_type": "execute_result"
    }
   ],
   "source": [
    "q_pmf =stats.binom(30,0.75).pmf(x)\n",
    "q_pmf"
   ]
  },
  {
   "cell_type": "code",
   "execution_count": 55,
   "id": "33ac5109",
   "metadata": {},
   "outputs": [
    {
     "data": {
      "text/plain": [
       "2.0671606564787637"
      ]
     },
     "execution_count": 55,
     "metadata": {},
     "output_type": "execute_result"
    }
   ],
   "source": [
    "H = stats.entropy(q_pmf)\n",
    "H"
   ]
  },
  {
   "cell_type": "markdown",
   "id": "5d7e50b1",
   "metadata": {},
   "source": [
    "# Kullback-Leibler Divergence"
   ]
  },
  {
   "cell_type": "markdown",
   "id": "6cca0147",
   "metadata": {},
   "source": [
    "- When we do not know distribution $p$ or when $p$ is complex, we may want to approximate it with distribution $q$.\n",
    "- How much information do we lose by using $q$ to represent $p$?\n",
    "- This is equivalent to how much extra uncertainty do we introduce when using $q$ to represent $p$.\n",
    "- KL divergence gives us 0 when $p=q$ and positive values otherwise.\n",
    "- KL divergence is the average value of the difference of $\\textrm{log} p$ and $\\textrm{log} q$."
   ]
  },
  {
   "cell_type": "markdown",
   "id": "f221d1a1",
   "metadata": {},
   "source": [
    "Events appear according to $p$ so compute the expectation (mean value) with respect to $p$.\n",
    "\n",
    "$$\n",
    "\\mathbb{K} \\mathbb{L}(p \\| q)=\\mathbb{E}_p[\\log p-\\log q]\n",
    "$$"
   ]
  },
  {
   "cell_type": "markdown",
   "id": "935a453d",
   "metadata": {},
   "source": [
    "For a discrete distribution, the above equation can be expressed as follows:"
   ]
  },
  {
   "cell_type": "markdown",
   "id": "0eae4378",
   "metadata": {},
   "source": [
    "$$\\mathbb{K} \\mathbb{L}(p \\| q)=\\sum_i^n p_i\\left(\\log p_i-\\log q_i\\right)$$"
   ]
  },
  {
   "cell_type": "markdown",
   "id": "c392f823",
   "metadata": {},
   "source": [
    "Using the properties of logarithms, rewrite in this common representation of $\\mathbb{K} \\mathbb{L}(p \\| q)$\n",
    "\n",
    "$$\\mathbb{K} \\mathbb{L}(p \\| q)=\\sum_i^n p_i \\log \\frac{p_i}{q_i}$$"
   ]
  },
  {
   "cell_type": "markdown",
   "id": "027e578d",
   "metadata": {},
   "source": [
    "## Relate the KL divergence, $D_{\\mathrm{KL}}(p \\| q)$,  to information entropy, $H(p, q)$\n",
    "\n",
    "Using the properties of logarithms, rearrange and then expand. Note the negative sign."
   ]
  },
  {
   "cell_type": "markdown",
   "id": "5852014a",
   "metadata": {},
   "source": [
    "$$\n",
    "\\mathbb{K} \\mathbb{L}(p \\| q)=-\\sum_i^n p_i\\left(\\log q_i-\\log p_i\\right)\n",
    "$$\n",
    "\n",
    "$$\n",
    "\\mathbb{K} \\mathbb{L}(p \\| q)=-\\overbrace{\\sum_i^n p_i \\log q_i}^{H(p, q)}-\\overbrace{\\left(-\\sum_i^n p_i \\log p_i\\right)}^{H(p)}\n",
    "$$"
   ]
  },
  {
   "cell_type": "markdown",
   "id": "c962d79a",
   "metadata": {},
   "source": [
    "Note that $H(p, q)$ is the entropy of q evaluated at the values of p. It is the *cross entropy*."
   ]
  },
  {
   "cell_type": "markdown",
   "id": "ac9a0039",
   "metadata": {},
   "source": [
    "$$\n",
    "H(p, q)=-\\mathbb{E}_p[\\log q]\n",
    "$$"
   ]
  },
  {
   "cell_type": "markdown",
   "id": "1c314ca7",
   "metadata": {},
   "source": [
    "Note that when $p=q$"
   ]
  },
  {
   "cell_type": "markdown",
   "id": "c375d189",
   "metadata": {},
   "source": [
    "$$\\mathbb{K} \\mathbb{L}(p \\| q)=\\mathbb{K} \\mathbb{L}(p \\| p)=\\sum_i p_i\\left(\\log \\left(p_i\\right)-\\log \\left(p_i\\right)\\right)=0$$"
   ]
  },
  {
   "cell_type": "markdown",
   "id": "dbc72ca7",
   "metadata": {},
   "source": [
    "Now replace $\\mathbb{K} \\mathbb{L}(p \\| q)$ with $D_{\\mathrm{KL}}(p \\| q)$ and rearrange. "
   ]
  },
  {
   "cell_type": "markdown",
   "id": "4904f26b",
   "metadata": {},
   "source": [
    "$$\n",
    "H(p, q)=H(p)+D_{\\mathrm{KL}}(p \\| q)\n",
    "$$"
   ]
  },
  {
   "cell_type": "markdown",
   "id": "7da71b42",
   "metadata": {},
   "source": [
    "So the KL divergence can be interpreted as the extra entropy when using $q$ to represent $p$."
   ]
  },
  {
   "cell_type": "markdown",
   "id": "067172ee",
   "metadata": {},
   "source": [
    "##  Compute $D_{\\mathrm{KL}}(p \\| q)$\n",
    "\n",
    "- using all pairwise combinations.\n",
    "- white represents infinite values  $D_{\\mathrm{KL}}(p \\| q) = \\infty$\n",
    "- black represents  $D_{\\mathrm{KL}}(p \\| q) = 0$\n",
    "- Note that the plot is not symmetric because usually $D_{\\mathrm{KL}}(p \\| q) \\neq D_{\\mathrm{KL}}(q \\| p)$ "
   ]
  },
  {
   "cell_type": "code",
   "execution_count": 46,
   "id": "611005a7",
   "metadata": {},
   "outputs": [
    {
     "data": {
      "image/png": "[encoded data removed]",
      "text/plain": [
       "<Figure size 640x480 with 2 Axes>"
      ]
     },
     "metadata": {},
     "output_type": "display_data"
    }
   ],
   "source": [
    "dists = [q_pmf, qu_pmf, r_pmf, ru_pmf, s_pmf, su_pmf]\n",
    "names = [\"q\", \"qu\", \"r\", \"ru\", \"s\", \"su\"]\n",
    "\n",
    "fig, ax = plt.subplots()\n",
    "KL_matrix = np.zeros((6, 6))\n",
    "for i, dist_i in enumerate(dists):\n",
    "    for j, dist_j in enumerate(dists):\n",
    "        KL_matrix[i, j] = stats.entropy(dist_i, dist_j)\n",
    "\n",
    "ax.set_xticks(np.arange(len(names)))\n",
    "ax.set_yticks(np.arange(len(names)))\n",
    "ax.set_xticklabels(names)\n",
    "ax.set_yticklabels(names)\n",
    "plt.set_cmap(\"viridis\")\n",
    "cmap = plt.cm.get_cmap()\n",
    "cmap.set_bad('w', 0.3)\n",
    "im = ax.imshow(KL_matrix)\n",
    "fig.colorbar(im, extend=\"max\");\n",
    "\n",
    "plt.savefig(\"./SectionD10/images/chp11_KL_heatmap.png\")"
   ]
  },
  {
   "cell_type": "markdown",
   "id": "777f98b4",
   "metadata": {},
   "source": [
    "- The above is the KL divergence for all pairwise combinations of the distributions q, qu,r,ru,s,and su.\n",
    "\n",
    "- The dark blue corresponds to KL divergence of 0.\n",
    "\n",
    "- The white corresponds to KL divergence of 1.\n",
    "\n",
    "- Note that the matrix is not symmetric.\n"
   ]
  },
  {
   "cell_type": "markdown",
   "id": "77156d4e",
   "metadata": {},
   "source": [
    "### Note that the computation of $D_{\\mathrm{KL}}(p \\| q)$ uses the following conventions:\n",
    "\n",
    "$$\n",
    "0 \\log \\frac{0}{0}=0, \\quad 0 \\log \\frac{0}{q(x)}=0, \\quad p(x) \\log \\frac{p(x)}{0}=\\infty\n",
    "$$"
   ]
  },
  {
   "cell_type": "markdown",
   "id": "7fffab56",
   "metadata": {},
   "source": [
    "### Ranking of models by KL-divergence is equivalent to ranking on the log-score\n",
    "\n",
    "\n",
    "#### Section 2.5 model comparison\n",
    "\n",
    "- do not want models that are so simple that miss important information\n",
    "- do not want models that are so complex that they fit noise\n",
    "- The sweet spot is hard to find\n",
    "  - no single criterion defines an optimal solution \n",
    "  - the optimal solution may not exist\n",
    "  - must choose from a limited set of models evaluated over a finite dataset\n",
    "\n",
    "\n",
    "- One approach is to compute the generalization error (i.e., out-of-sample predictive accuracy). Compute by cross validation.\n",
    "\n",
    "- logarithmic scoring rules have nice [theoretical properties](https://doi.org/10.1198/016214506000001437)\n",
    "\n",
    "\n",
    "$$\\mathrm{ELPD}=\\sum_{i=1}^n \\int p_t\\left(\\tilde{y}_i\\right) \\log p\\left(\\tilde{y}_i \\mid y_i\\right) d \\tilde{y}_i$$\n",
    "\n",
    "- ELPD: expected log *pointwise* predictive density\n",
    "- \"expected\" because we integrate over all possible datasets that can be generated by the process\n",
    "- \"pointwise\" because the computations are performed per observation $y_i$ over $n$ observations.\n",
    "\n",
    "- $p_t\\left(\\tilde{y}_i\\right)$: is the distribution of the true data-generating process for $\\tilde{y}_i$ (the future data given the current posterior which in turns depends on the model (prior and likelihood) and the current data)\n",
    "- $p\\left(\\tilde{y}_i \\mid y_i\\right)$: posterior predictive distribution $p(\\tilde{{y}} \\mid {y})=\\int_{{\\Theta}} p(\\tilde{{y}} \\mid {\\theta}) p({\\theta} \\mid {y}) d {\\theta}$\n",
    "\n",
    "Use the *deviance* instead:\n",
    "\n",
    "\n",
    "$$\\sum_{i=1}^n \\log \\int p\\left(y_i \\mid \\boldsymbol{\\theta}\\right) p(\\boldsymbol{\\theta} \\mid y) d \\boldsymbol{\\theta}$$\n",
    "\n",
    "- Note that this quantity is proportional to the quadratic mean error when the likelihood is Gaussian.\n",
    "- Note that we are using all of the data to fit the model, so we will over estimate ELPD."
   ]
  },
  {
   "cell_type": "markdown",
   "id": "1a4cc6e7",
   "metadata": {},
   "source": [
    "##### Leave-One-Out Cross Validation\n",
    "\n",
    "\n",
    "$$\\mathrm{ELPD}_{\\text {LOO-CV }}=\\sum_{i=1}^n \\log \\int p\\left(y_i \\mid \\boldsymbol{\\theta}\\right) p\\left(\\boldsymbol{\\theta} \\mid y_{-i}\\right) d \\boldsymbol{\\theta}$$"
   ]
  },
  {
   "cell_type": "code",
   "execution_count": 49,
   "id": "748bf9d0",
   "metadata": {},
   "outputs": [
    {
     "name": "stderr",
     "output_type": "stream",
     "text": [
      "Auto-assigning NUTS sampler...\n",
      "Initializing NUTS using jitter+adapt_diag...\n",
      "Multiprocess sampling (4 chains in 4 jobs)\n",
      "NUTS: [σ]\n",
      "/Users/blaine/opt/anaconda3/envs/stat-rethink2-pymc_v4/lib/python3.10/site-packages/scipy/__init__.py:146: UserWarning: A NumPy version >=1.16.5 and <1.23.0 is required for this version of SciPy (detected version 1.23.5\n",
      "  warnings.warn(f\"A NumPy version >={np_minversion} and <{np_maxversion}\"\n",
      "/Users/blaine/opt/anaconda3/envs/stat-rethink2-pymc_v4/lib/python3.10/site-packages/scipy/__init__.py:146: UserWarning: A NumPy version >=1.16.5 and <1.23.0 is required for this version of SciPy (detected version 1.23.5\n",
      "  warnings.warn(f\"A NumPy version >={np_minversion} and <{np_maxversion}\"\n",
      "/Users/blaine/opt/anaconda3/envs/stat-rethink2-pymc_v4/lib/python3.10/site-packages/scipy/__init__.py:146: UserWarning: A NumPy version >=1.16.5 and <1.23.0 is required for this version of SciPy (detected version 1.23.5\n",
      "  warnings.warn(f\"A NumPy version >={np_minversion} and <{np_maxversion}\"\n",
      "/Users/blaine/opt/anaconda3/envs/stat-rethink2-pymc_v4/lib/python3.10/site-packages/scipy/__init__.py:146: UserWarning: A NumPy version >=1.16.5 and <1.23.0 is required for this version of SciPy (detected version 1.23.5\n",
      "  warnings.warn(f\"A NumPy version >={np_minversion} and <{np_maxversion}\"\n"
     ]
    },
    {
     "data": {
      "text/html": [
       "\n",
       "<style>\n",
       "    /* Turns off some styling */\n",
       "    progress {\n",
       "        /* gets rid of default border in Firefox and Opera. */\n",
       "        border: none;\n",
       "        /* Needs to be in here for Safari polyfill so background images work as expected. */\n",
       "        background-size: auto;\n",
       "    }\n",
       "    progress:not([value]), progress:not([value])::-webkit-progress-bar {\n",
       "        background: repeating-linear-gradient(45deg, #7e7e7e, #7e7e7e 10px, #5c5c5c 10px, #5c5c5c 20px);\n",
       "    }\n",
       "    .progress-bar-interrupted, .progress-bar-interrupted::-webkit-progress-bar {\n",
       "        background: #F44336;\n",
       "    }\n",
       "</style>\n"
      ],
      "text/plain": [
       "<IPython.core.display.HTML object>"
      ]
     },
     "metadata": {},
     "output_type": "display_data"
    },
    {
     "data": {
      "text/html": [
       "\n",
       "    <div>\n",
       "      <progress value='8000' class='' max='8000' style='width:300px; height:20px; vertical-align: middle;'></progress>\n",
       "      100.00% [8000/8000 00:01&lt;00:00 Sampling 4 chains, 0 divergences]\n",
       "    </div>\n",
       "    "
      ],
      "text/plain": [
       "<IPython.core.display.HTML object>"
      ]
     },
     "metadata": {},
     "output_type": "display_data"
    },
    {
     "name": "stderr",
     "output_type": "stream",
     "text": [
      "Sampling 4 chains for 1_000 tune and 1_000 draw iterations (4_000 + 4_000 draws total) took 17 seconds.\n",
      "Sampling: [y]\n"
     ]
    },
    {
     "data": {
      "text/html": [
       "\n",
       "<style>\n",
       "    /* Turns off some styling */\n",
       "    progress {\n",
       "        /* gets rid of default border in Firefox and Opera. */\n",
       "        border: none;\n",
       "        /* Needs to be in here for Safari polyfill so background images work as expected. */\n",
       "        background-size: auto;\n",
       "    }\n",
       "    progress:not([value]), progress:not([value])::-webkit-progress-bar {\n",
       "        background: repeating-linear-gradient(45deg, #7e7e7e, #7e7e7e 10px, #5c5c5c 10px, #5c5c5c 20px);\n",
       "    }\n",
       "    .progress-bar-interrupted, .progress-bar-interrupted::-webkit-progress-bar {\n",
       "        background: #F44336;\n",
       "    }\n",
       "</style>\n"
      ],
      "text/plain": [
       "<IPython.core.display.HTML object>"
      ]
     },
     "metadata": {},
     "output_type": "display_data"
    },
    {
     "data": {
      "text/html": [
       "\n",
       "    <div>\n",
       "      <progress value='4000' class='' max='4000' style='width:300px; height:20px; vertical-align: middle;'></progress>\n",
       "      100.00% [4000/4000 00:00&lt;00:00]\n",
       "    </div>\n",
       "    "
      ],
      "text/plain": [
       "<IPython.core.display.HTML object>"
      ]
     },
     "metadata": {},
     "output_type": "display_data"
    },
    {
     "ename": "KeyError",
     "evalue": "'y'",
     "output_type": "error",
     "traceback": [
      "\u001b[0;31m---------------------------------------------------------------------------\u001b[0m",
      "\u001b[0;31mKeyError\u001b[0m                                  Traceback (most recent call last)",
      "Cell \u001b[0;32mIn[49], line 22\u001b[0m\n\u001b[1;32m     20\u001b[0m     y \u001b[38;5;241m=\u001b[39m pm\u001b[38;5;241m.\u001b[39mNormal(\u001b[38;5;124m\"\u001b[39m\u001b[38;5;124my\u001b[39m\u001b[38;5;124m\"\u001b[39m, \u001b[38;5;241m0\u001b[39m, σ, observed\u001b[38;5;241m=\u001b[39my_obs)\n\u001b[1;32m     21\u001b[0m     idataB \u001b[38;5;241m=\u001b[39m pm\u001b[38;5;241m.\u001b[39msample(return_inferencedata\u001b[38;5;241m=\u001b[39m\u001b[38;5;28;01mTrue\u001b[39;00m)\n\u001b[0;32m---> 22\u001b[0m     idataB\u001b[38;5;241m.\u001b[39madd_groups({\u001b[38;5;124m\"\u001b[39m\u001b[38;5;124mposterior_predictive\u001b[39m\u001b[38;5;124m\"\u001b[39m: {\u001b[38;5;124m\"\u001b[39m\u001b[38;5;124my\u001b[39m\u001b[38;5;124m\"\u001b[39m:\u001b[43mpm\u001b[49m\u001b[38;5;241;43m.\u001b[39;49m\u001b[43msample_posterior_predictive\u001b[49m\u001b[43m(\u001b[49m\u001b[43midataB\u001b[49m\u001b[43m)\u001b[49m\u001b[43m[\u001b[49m\u001b[38;5;124;43m\"\u001b[39;49m\u001b[38;5;124;43my\u001b[39;49m\u001b[38;5;124;43m\"\u001b[39;49m\u001b[43m]\u001b[49m[\u001b[38;5;28;01mNone\u001b[39;00m,:]}})\n\u001b[1;32m     23\u001b[0m     idatas_cmp[\u001b[38;5;124m\"\u001b[39m\u001b[38;5;124mmB\u001b[39m\u001b[38;5;124m\"\u001b[39m] \u001b[38;5;241m=\u001b[39m idataB\n\u001b[1;32m     25\u001b[0m \u001b[38;5;66;03m# Generate data from Normal likelihood model\u001b[39;00m\n\u001b[1;32m     26\u001b[0m \u001b[38;5;66;03m# with random mean and random standard deviation\u001b[39;00m\n",
      "File \u001b[0;32m~/opt/anaconda3/envs/stat-rethink2-pymc_v4/lib/python3.10/site-packages/arviz/data/inference_data.py:259\u001b[0m, in \u001b[0;36mInferenceData.__getitem__\u001b[0;34m(self, key)\u001b[0m\n\u001b[1;32m    257\u001b[0m \u001b[38;5;124;03m\"\"\"Get item by key.\"\"\"\u001b[39;00m\n\u001b[1;32m    258\u001b[0m \u001b[38;5;28;01mif\u001b[39;00m key \u001b[38;5;129;01mnot\u001b[39;00m \u001b[38;5;129;01min\u001b[39;00m \u001b[38;5;28mself\u001b[39m\u001b[38;5;241m.\u001b[39m_groups_all:\n\u001b[0;32m--> 259\u001b[0m     \u001b[38;5;28;01mraise\u001b[39;00m \u001b[38;5;167;01mKeyError\u001b[39;00m(key)\n\u001b[1;32m    260\u001b[0m \u001b[38;5;28;01mreturn\u001b[39;00m \u001b[38;5;28mgetattr\u001b[39m(\u001b[38;5;28mself\u001b[39m, key)\n",
      "\u001b[0;31mKeyError\u001b[0m: 'y'"
     ]
    }
   ],
   "source": [
    "np.random.seed(90210)\n",
    "\n",
    "y_obs =  np.random.normal(0, 1, size=100)\n",
    "idatas_cmp = {}\n",
    "\n",
    "# # Generate data from Skewnormal likelihood model\n",
    "# # with fixed mean and skewness and random standard deviation\n",
    "# with pm.Model() as mA:\n",
    "#     σ = pm.HalfNormal(\"σ\", 1)\n",
    "#     y = pm.SkewNormal(\"y\", 0, σ, alpha=1, observed=y_obs)\n",
    "#     idataA = pm.sample(return_inferencedata=True)\n",
    "# # add_groups modifies an existing az. InferenceData   \n",
    "#     idataA.add_groups({\"posterior_predictive\": {\"y\":pm.sample_posterior_predictive(idataA)[\"y\"][None,:]}})\n",
    "#     idatas_cmp[\"mA\"] = idataA\n",
    "\n",
    "# Generate data from Normal likelihood model\n",
    "# with fixed mean and random standard deviation\n",
    "with pm.Model() as mB:\n",
    "    σ = pm.HalfNormal(\"σ\", 1)\n",
    "    y = pm.Normal(\"y\", 0, σ, observed=y_obs)\n",
    "    idataB = pm.sample(return_inferencedata=True)\n",
    "    idataB.add_groups({\"posterior_predictive\": {\"y\":pm.sample_posterior_predictive(idataB)[\"y\"][None,:]}})\n",
    "    idatas_cmp[\"mB\"] = idataB\n",
    "\n",
    "# Generate data from Normal likelihood model\n",
    "# with random mean and random standard deviation\n",
    "with pm.Model() as mC:\n",
    "    μ = pm.Normal(\"μ\", 0, 1)\n",
    "    σ = pm.HalfNormal(\"σ\", 1)\n",
    "    y = pm.Normal(\"y\", μ, σ, observed=y_obs)\n",
    "    idataC = pm.sample(return_inferencedata=True)\n",
    "    idataC.add_groups({\"posterior_predictive\": {\"y\":pm.sample_posterior_predictive(idataC)[\"y\"][None,:]}})\n",
    "    idatas_cmp[\"mC\"] = idataC"
   ]
  },
  {
   "cell_type": "code",
   "execution_count": null,
   "id": "5a074b94",
   "metadata": {},
   "outputs": [],
   "source": [
    "cmp = az.compare(idatas_cmp)\n",
    "cmp.round(2)"
   ]
  },
  {
   "cell_type": "code",
   "execution_count": 50,
   "id": "b05437dc",
   "metadata": {},
   "outputs": [
    {
     "data": {
      "text/html": [
       "<img src=\"./SectionD10/images/table.png\" width=\"900\" height=\"900\"/>"
      ],
      "text/plain": [
       "<IPython.core.display.Image object>"
      ]
     },
     "execution_count": 50,
     "metadata": {},
     "output_type": "execute_result"
    }
   ],
   "source": [
    "from IPython.display import Image\n",
    "Image(url=\"./SectionD10/images/table.png\", width=900, height=900)"
   ]
  },
  {
   "cell_type": "markdown",
   "id": "7aa4744e",
   "metadata": {},
   "source": [
    "- rank: 0 is the model with the best predictive accuracy\n",
    "- loo: the LELPD value\n",
    "- p_loo: values of the penalization term. Roughly the effective number of parameters.\n",
    "- d_loo: difference n LOO for the top-ranked model and the LOO value for each model\n",
    "- weight: probability of each model given the data\n",
    "- se: the standard error of the ELPD\n",
    "- dse: the standard errors of the difference between two values of ELPD. Usually 0 for the top-ranked model\n",
    "- warning: If True, the LOO approximation may not be reliable\n",
    "- loo_scale: log, deviance, and negative-log are the options"
   ]
  },
  {
   "cell_type": "code",
   "execution_count": null,
   "id": "883eceea",
   "metadata": {},
   "outputs": [],
   "source": [
    "az.plot_compare(cmp, figsize=(9, 3))\n",
    "plt.savefig(\"img/chp02/compare_dummy.png\")"
   ]
  },
  {
   "cell_type": "code",
   "execution_count": 53,
   "id": "6667f1d4",
   "metadata": {},
   "outputs": [
    {
     "data": {
      "text/html": [
       "<img src=\"./SectionD10/images/compareModelsbyLOO.png\" width=\"900\" height=\"900\"/>"
      ],
      "text/plain": [
       "<IPython.core.display.Image object>"
      ]
     },
     "execution_count": 53,
     "metadata": {},
     "output_type": "execute_result"
    }
   ],
   "source": [
    "from IPython.display import Image\n",
    "Image(url=\"./SectionD10/images/compareModelsbyLOO.png\", width=900, height=900)"
   ]
  },
  {
   "cell_type": "markdown",
   "id": "bc65c3e7",
   "metadata": {},
   "source": [
    "#### Pointwise ELPD"
   ]
  },
  {
   "cell_type": "code",
   "execution_count": 52,
   "id": "d2c81ab1",
   "metadata": {},
   "outputs": [
    {
     "data": {
      "text/html": [
       "<img src=\"./SectionD10/images/pointwiseELPD.png\" width=\"900\" height=\"900\"/>"
      ],
      "text/plain": [
       "<IPython.core.display.Image object>"
      ]
     },
     "execution_count": 52,
     "metadata": {},
     "output_type": "execute_result"
    }
   ],
   "source": [
    "from IPython.display import Image\n",
    "Image(url=\"./SectionD10/images/pointwiseELPD.png\", width=900, height=900)"
   ]
  },
  {
   "cell_type": "code",
   "execution_count": null,
   "id": "6e46ad9f",
   "metadata": {},
   "outputs": [],
   "source": [
    "az.plot_elpd(idatas_cmp, figsize=(10, 5), plot_kwargs={\"marker\":\".\"}, threshold=2);\n",
    "plt.savefig(\"img/chp02/elpd_dummy.png\")\n"
   ]
  },
  {
   "cell_type": "markdown",
   "id": "3df09d87",
   "metadata": {},
   "source": [
    "#### Back to section 11.3\n",
    "\n",
    "- Assume that the true model is $M_0$\n",
    "- Assume $k$ model posteriors $\\left\\{q_{M_1}, q_{M_2}, \\cdots q_{M_k}\\right\\}$\n",
    "- Note that $p_{M_0}$ is the same for all comparison and cancels out (????).\n",
    "\n",
    "\n",
    "\n",
    "$$\n",
    "\\begin{aligned}\n",
    "\\mathbb{K} \\mathbb{L}\\left(p_{M_0} \\| q_{M_1}\\right)= & \\mathbb{E}\\left[\\log p_{M_0}\\right]-\\mathbb{E}\\left[\\log q_{M_1}\\right] \\\\\n",
    "\\mathbb{K} \\mathbb{L}\\left(p_{M_0} \\| q_{M_2}\\right)= & \\mathbb{E}\\left[\\log p_{M_0}\\right]-\\mathbb{E}\\left[\\log q_{M_2}\\right] \\\\\n",
    "& \\cdots \\\\\n",
    "\\mathbb{K} \\mathbb{L}\\left(p_{M_0} \\| q_{M_k}\\right)= & \\mathbb{E}\\left[\\log p_{M_0}\\right]-\\mathbb{E}\\left[\\log q_{M_k}\\right]\n",
    "\\end{aligned}\n",
    "$$"
   ]
  },
  {
   "cell_type": "markdown",
   "id": "54ed5319",
   "metadata": {},
   "source": [
    "$\\mathrm{ELPD}=\\sum_{i=1}^n \\int p_t\\left(\\tilde{y}_i\\right) \\log p\\left(\\tilde{y}_i \\mid y_i\\right) d \\tilde{y}_i$"
   ]
  },
  {
   "cell_type": "code",
   "execution_count": null,
   "id": "89d774fb",
   "metadata": {},
   "outputs": [],
   "source": []
  },
  {
   "cell_type": "code",
   "execution_count": null,
   "id": "ac5f4487",
   "metadata": {},
   "outputs": [],
   "source": []
  },
  {
   "cell_type": "code",
   "execution_count": null,
   "id": "faa7aa7e",
   "metadata": {},
   "outputs": [],
   "source": []
  },
  {
   "cell_type": "markdown",
   "id": "5442e51e",
   "metadata": {},
   "source": [
    "## Measure of uncertainty needs the following properties:\n",
    "\n",
    "1. continuous\n",
    "2. increase with the number of possible events\n",
    "3. additive"
   ]
  }
 ],
 "metadata": {
  "kernelspec": {
   "display_name": "stat-rethink-pymc4",
   "language": "python",
   "name": "stat-rethink-pymc4"
  },
  "language_info": {
   "codemirror_mode": {
    "name": "ipython",
    "version": 3
   },
   "file_extension": ".py",
   "mimetype": "text/x-python",
   "name": "python",
   "nbconvert_exporter": "python",
   "pygments_lexer": "ipython3",
   "version": "3.10.8"
  },
  "toc": {
   "base_numbering": 1,
   "nav_menu": {},
   "number_sections": true,
   "sideBar": true,
   "skip_h1_title": false,
   "title_cell": "Table of Contents",
   "title_sidebar": "Contents",
   "toc_cell": false,
   "toc_position": {},
   "toc_section_display": true,
   "toc_window_display": false
  }
 },
 "nbformat": 4,
 "nbformat_minor": 5
}
